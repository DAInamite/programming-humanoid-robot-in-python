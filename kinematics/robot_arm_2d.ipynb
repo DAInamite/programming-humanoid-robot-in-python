{
 "cells": [
  {
   "cell_type": "markdown",
   "metadata": {},
   "source": [
    "# Robot Arm Kinematics (2D)"
   ]
  },
  {
   "cell_type": "code",
   "execution_count": 1,
   "metadata": {},
   "outputs": [
    {
     "name": "stderr",
     "output_type": "stream",
     "text": [
      "/usr/local/lib/python2.7/dist-packages/IPython/html.py:14: ShimWarning: The `IPython.html` package has been deprecated since IPython 4.0. You should import from `notebook` instead. `IPython.html.widgets` has moved to `ipywidgets`.\n",
      "  \"`IPython.html.widgets` has moved to `ipywidgets`.\", ShimWarning)\n"
     ]
    }
   ],
   "source": [
    "%matplotlib inline\n",
    "from pylab import *\n",
    "from numpy import sin, cos, pi, matrix, random\n",
    "from __future__ import division\n",
    "from math import atan2\n",
    "rcParams['figure.figsize'] = 12, 10  # that's default image size for this interactive session\n",
    "from IPython import display\n",
    "from IPython.html.widgets import interact, fixed"
   ]
  },
  {
   "cell_type": "markdown",
   "metadata": {},
   "source": [
    "## Coordinate Transformation"
   ]
  },
  {
   "cell_type": "code",
   "execution_count": 2,
   "metadata": {
    "collapsed": true
   },
   "outputs": [],
   "source": [
    "def trans(x, y, a):\n",
    "    '''create a 2D transformation'''\n",
    "    s = sin(a)\n",
    "    c = cos(a)\n",
    "    return matrix([[c, -s, x],\n",
    "                   [s,  c, y],\n",
    "                   [0,  0, 1]])\n",
    "\n",
    "def from_trans(m):\n",
    "    '''get x, y, theta from transform matrix'''\n",
    "    return [m[0, -1], m[1, -1], atan2(m[1, 0], m[0, 0])]"
   ]
  },
  {
   "cell_type": "code",
   "execution_count": 3,
   "metadata": {},
   "outputs": [
    {
     "data": {
      "text/plain": [
       "matrix([[ 1., -0.,  0.],\n",
       "        [ 0.,  1.,  0.],\n",
       "        [ 0.,  0.,  1.]])"
      ]
     },
     "execution_count": 3,
     "metadata": {},
     "output_type": "execute_result"
    }
   ],
   "source": [
    "trans(0, 0, 0)"
   ]
  },
  {
   "cell_type": "markdown",
   "metadata": {},
   "source": [
    "## Parameters of robot arm"
   ]
  },
  {
   "cell_type": "code",
   "execution_count": 4,
   "metadata": {
    "collapsed": true
   },
   "outputs": [],
   "source": [
    "N = 3  # number of links\n",
    "l = [0] + range(N, 0, -1)  # length of link, l[0] is ingored\n",
    "max_len = sum(l)\n",
    "a = random.random_sample(N)  # angles of joints\n",
    "T0 = trans(0, 0, 0)  # base"
   ]
  },
  {
   "cell_type": "markdown",
   "metadata": {},
   "source": [
    "## Forward Kinematics"
   ]
  },
  {
   "cell_type": "code",
   "execution_count": 5,
   "metadata": {
    "collapsed": true
   },
   "outputs": [],
   "source": [
    "def forward_kinematics(T0, l, a):\n",
    "    T = [T0]\n",
    "    for i in range(len(a)):\n",
    "        Ti = T[-1] * trans(l[i], 0, a[i])\n",
    "        T.append(Ti)\n",
    "    Te = T[-1] * trans(l[-1], 0, 0)  # end effector\n",
    "    T.append(Te)\n",
    "    return T"
   ]
  },
  {
   "cell_type": "code",
   "execution_count": 6,
   "metadata": {
    "collapsed": true
   },
   "outputs": [],
   "source": [
    "def show_robot_arm(T):\n",
    "    cla()\n",
    "    x = [Ti[0,-1] for Ti in T]\n",
    "    y = [Ti[1,-1] for Ti in T]\n",
    "    plot(x, y, '-or', linewidth=5, markersize=10)\n",
    "    xlim([-max_len, max_len])\n",
    "    ylim([-max_len, max_len]) \n",
    "    ax = axes()\n",
    "    ax.set_aspect('equal')\n",
    "    t = atan2(T[-1][1, 0], T[-1][0,0])\n",
    "    ax.annotate('[%f,%f,%f]' % (x[-1], y[-1], t), xy=(x[-1], y[-1]), xytext=(x[-1], y[-1] + 0.5))\n",
    "    display.clear_output(wait=True)"
   ]
  },
  {
   "cell_type": "code",
   "execution_count": 7,
   "metadata": {},
   "outputs": [
    {
     "data": {
      "application/vnd.jupyter.widget-view+json": {
       "model_id": "6dc27b0c2b9c466692a158a9f8e2c38f"
      }
     },
     "metadata": {},
     "output_type": "display_data"
    },
    {
     "data": {
      "application/vnd.jupyter.widget-view+json": {
       "model_id": "ed4071078a1844448088b63e384e5520"
      }
     },
     "metadata": {},
     "output_type": "display_data"
    },
    {
     "data": {
      "application/vnd.jupyter.widget-view+json": {
       "model_id": "ffb5a5e6c3dc4807bbeac56fde2433d3"
      }
     },
     "metadata": {},
     "output_type": "display_data"
    },
    {
     "data": {
      "image/png": "[encoded data removed]",
      "text/plain": [
       "<matplotlib.figure.Figure at 0x7f0d2c937b50>"
      ]
     },
     "metadata": {},
     "output_type": "display_data"
    }
   ],
   "source": [
    "for i in range(N):\n",
    "    @interact(value=(-pi/2, pi/2, 0.1), n=fixed(i))\n",
    "    def set_joint_angle(n, value=0):\n",
    "        global a\n",
    "        a[n] = value\n",
    "        T = forward_kinematics(T0, l, a)\n",
    "        show_robot_arm(T)\n"
   ]
  },
  {
   "cell_type": "markdown",
   "metadata": {},
   "source": [
    "## Inverse Kinematics"
   ]
  },
  {
   "cell_type": "markdown",
   "metadata": {},
   "source": [
    "## Analytical Solutions with Sympy"
   ]
  },
  {
   "cell_type": "markdown",
   "metadata": {},
   "source": [
    "[SymPy](http://sympy.org/) is a Python library for symbolic mathematics."
   ]
  },
  {
   "cell_type": "code",
   "execution_count": 8,
   "metadata": {
    "collapsed": true
   },
   "outputs": [],
   "source": [
    "from sympy import init_printing, sin, cos, pi, asin, acos, atan2, atan, sqrt, simplify, solve, latex, symbols\n",
    "from sympy import Matrix as matrix\n",
    "init_printing()"
   ]
  },
  {
   "cell_type": "code",
   "execution_count": 9,
   "metadata": {},
   "outputs": [
    {
     "data": {
      "text/latex": [
       "$$\\left[\\begin{matrix}\\cos{\\left (\\theta \\right )} & - \\sin{\\left (\\theta \\right )} & x\\\\\\sin{\\left (\\theta \\right )} & \\cos{\\left (\\theta \\right )} & y\\\\0 & 0 & 1\\end{matrix}\\right]$$"
      ],
      "text/plain": [
       "⎡cos(θ)  -sin(θ)  x⎤\n",
       "⎢                  ⎥\n",
       "⎢sin(θ)  cos(θ)   y⎥\n",
       "⎢                  ⎥\n",
       "⎣  0        0     1⎦"
      ]
     },
     "execution_count": 9,
     "metadata": {},
     "output_type": "execute_result"
    }
   ],
   "source": [
    "from sympy.abc import x, y, theta\n",
    "trans(x, y, theta)"
   ]
  },
  {
   "cell_type": "code",
   "execution_count": 10,
   "metadata": {
    "collapsed": true
   },
   "outputs": [],
   "source": [
    "N = 4\n",
    "l = [symbols('l_%d' % i) for i in range(N + 1)]\n",
    "l[0] = 0\n",
    "a = [symbols('theta_%d' % i) for i in range(N)]\n",
    "T0 = trans(0, 0, 0)"
   ]
  },
  {
   "cell_type": "code",
   "execution_count": 11,
   "metadata": {},
   "outputs": [
    {
     "data": {
      "image/png": "[encoded data removed]",
      "text/latex": [
       "$$\\left ( \\left [ 0, \\quad l_{1}, \\quad l_{2}, \\quad l_{3}, \\quad l_{4}\\right ], \\quad \\left [ \\theta_{0}, \\quad \\theta_{1}, \\quad \\theta_{2}, \\quad \\theta_{3}\\right ]\\right )$$"
      ],
      "text/plain": [
       "([0, l₁, l₂, l₃, l₄], [θ₀, θ₁, θ₂, θ₃])"
      ]
     },
     "execution_count": 11,
     "metadata": {},
     "output_type": "execute_result"
    }
   ],
   "source": [
    "l, a"
   ]
  },
  {
   "cell_type": "code",
   "execution_count": 16,
   "metadata": {},
   "outputs": [
    {
     "data": {
      "text/latex": [
       "$$\\left[\\begin{matrix}1 & 0 & 0\\\\0 & 1 & 0\\\\0 & 0 & 1\\end{matrix}\\right]$$"
      ],
      "text/plain": [
       "⎡1  0  0⎤\n",
       "⎢       ⎥\n",
       "⎢0  1  0⎥\n",
       "⎢       ⎥\n",
       "⎣0  0  1⎦"
      ]
     },
     "execution_count": 16,
     "metadata": {},
     "output_type": "execute_result"
    }
   ],
   "source": [
    "T0"
   ]
  },
  {
   "cell_type": "code",
   "execution_count": 17,
   "metadata": {},
   "outputs": [
    {
     "data": {
      "text/latex": [
       "$$\\left[\\begin{matrix}\\left(- \\left(- \\sin{\\left (\\theta_{0} \\right )} \\sin{\\left (\\theta_{1} \\right )} + \\cos{\\left (\\theta_{0} \\right )} \\cos{\\left (\\theta_{1} \\right )}\\right) \\sin{\\left (\\theta_{2} \\right )} + \\left(- \\sin{\\left (\\theta_{0} \\right )} \\cos{\\left (\\theta_{1} \\right )} - \\sin{\\left (\\theta_{1} \\right )} \\cos{\\left (\\theta_{0} \\right )}\\right) \\cos{\\left (\\theta_{2} \\right )}\\right) \\sin{\\left (\\theta_{3} \\right )} + \\left(\\left(- \\sin{\\left (\\theta_{0} \\right )} \\sin{\\left (\\theta_{1} \\right )} + \\cos{\\left (\\theta_{0} \\right )} \\cos{\\left (\\theta_{1} \\right )}\\right) \\cos{\\left (\\theta_{2} \\right )} + \\left(- \\sin{\\left (\\theta_{0} \\right )} \\cos{\\left (\\theta_{1} \\right )} - \\sin{\\left (\\theta_{1} \\right )} \\cos{\\left (\\theta_{0} \\right )}\\right) \\sin{\\left (\\theta_{2} \\right )}\\right) \\cos{\\left (\\theta_{3} \\right )} & \\left(- \\left(- \\sin{\\left (\\theta_{0} \\right )} \\sin{\\left (\\theta_{1} \\right )} + \\cos{\\left (\\theta_{0} \\right )} \\cos{\\left (\\theta_{1} \\right )}\\right) \\sin{\\left (\\theta_{2} \\right )} + \\left(- \\sin{\\left (\\theta_{0} \\right )} \\cos{\\left (\\theta_{1} \\right )} - \\sin{\\left (\\theta_{1} \\right )} \\cos{\\left (\\theta_{0} \\right )}\\right) \\cos{\\left (\\theta_{2} \\right )}\\right) \\cos{\\left (\\theta_{3} \\right )} - \\left(\\left(- \\sin{\\left (\\theta_{0} \\right )} \\sin{\\left (\\theta_{1} \\right )} + \\cos{\\left (\\theta_{0} \\right )} \\cos{\\left (\\theta_{1} \\right )}\\right) \\cos{\\left (\\theta_{2} \\right )} + \\left(- \\sin{\\left (\\theta_{0} \\right )} \\cos{\\left (\\theta_{1} \\right )} - \\sin{\\left (\\theta_{1} \\right )} \\cos{\\left (\\theta_{0} \\right )}\\right) \\sin{\\left (\\theta_{2} \\right )}\\right) \\sin{\\left (\\theta_{3} \\right )} & l_{1} \\cos{\\left (\\theta_{0} \\right )} + l_{2} \\left(- \\sin{\\left (\\theta_{0} \\right )} \\sin{\\left (\\theta_{1} \\right )} + \\cos{\\left (\\theta_{0} \\right )} \\cos{\\left (\\theta_{1} \\right )}\\right) + l_{3} \\left(\\left(- \\sin{\\left (\\theta_{0} \\right )} \\sin{\\left (\\theta_{1} \\right )} + \\cos{\\left (\\theta_{0} \\right )} \\cos{\\left (\\theta_{1} \\right )}\\right) \\cos{\\left (\\theta_{2} \\right )} + \\left(- \\sin{\\left (\\theta_{0} \\right )} \\cos{\\left (\\theta_{1} \\right )} - \\sin{\\left (\\theta_{1} \\right )} \\cos{\\left (\\theta_{0} \\right )}\\right) \\sin{\\left (\\theta_{2} \\right )}\\right) + l_{4} \\left(\\left(- \\left(- \\sin{\\left (\\theta_{0} \\right )} \\sin{\\left (\\theta_{1} \\right )} + \\cos{\\left (\\theta_{0} \\right )} \\cos{\\left (\\theta_{1} \\right )}\\right) \\sin{\\left (\\theta_{2} \\right )} + \\left(- \\sin{\\left (\\theta_{0} \\right )} \\cos{\\left (\\theta_{1} \\right )} - \\sin{\\left (\\theta_{1} \\right )} \\cos{\\left (\\theta_{0} \\right )}\\right) \\cos{\\left (\\theta_{2} \\right )}\\right) \\sin{\\left (\\theta_{3} \\right )} + \\left(\\left(- \\sin{\\left (\\theta_{0} \\right )} \\sin{\\left (\\theta_{1} \\right )} + \\cos{\\left (\\theta_{0} \\right )} \\cos{\\left (\\theta_{1} \\right )}\\right) \\cos{\\left (\\theta_{2} \\right )} + \\left(- \\sin{\\left (\\theta_{0} \\right )} \\cos{\\left (\\theta_{1} \\right )} - \\sin{\\left (\\theta_{1} \\right )} \\cos{\\left (\\theta_{0} \\right )}\\right) \\sin{\\left (\\theta_{2} \\right )}\\right) \\cos{\\left (\\theta_{3} \\right )}\\right)\\\\\\left(\\left(- \\sin{\\left (\\theta_{0} \\right )} \\sin{\\left (\\theta_{1} \\right )} + \\cos{\\left (\\theta_{0} \\right )} \\cos{\\left (\\theta_{1} \\right )}\\right) \\sin{\\left (\\theta_{2} \\right )} + \\left(\\sin{\\left (\\theta_{0} \\right )} \\cos{\\left (\\theta_{1} \\right )} + \\sin{\\left (\\theta_{1} \\right )} \\cos{\\left (\\theta_{0} \\right )}\\right) \\cos{\\left (\\theta_{2} \\right )}\\right) \\cos{\\left (\\theta_{3} \\right )} + \\left(\\left(- \\sin{\\left (\\theta_{0} \\right )} \\sin{\\left (\\theta_{1} \\right )} + \\cos{\\left (\\theta_{0} \\right )} \\cos{\\left (\\theta_{1} \\right )}\\right) \\cos{\\left (\\theta_{2} \\right )} - \\left(\\sin{\\left (\\theta_{0} \\right )} \\cos{\\left (\\theta_{1} \\right )} + \\sin{\\left (\\theta_{1} \\right )} \\cos{\\left (\\theta_{0} \\right )}\\right) \\sin{\\left (\\theta_{2} \\right )}\\right) \\sin{\\left (\\theta_{3} \\right )} & - \\left(\\left(- \\sin{\\left (\\theta_{0} \\right )} \\sin{\\left (\\theta_{1} \\right )} + \\cos{\\left (\\theta_{0} \\right )} \\cos{\\left (\\theta_{1} \\right )}\\right) \\sin{\\left (\\theta_{2} \\right )} + \\left(\\sin{\\left (\\theta_{0} \\right )} \\cos{\\left (\\theta_{1} \\right )} + \\sin{\\left (\\theta_{1} \\right )} \\cos{\\left (\\theta_{0} \\right )}\\right) \\cos{\\left (\\theta_{2} \\right )}\\right) \\sin{\\left (\\theta_{3} \\right )} + \\left(\\left(- \\sin{\\left (\\theta_{0} \\right )} \\sin{\\left (\\theta_{1} \\right )} + \\cos{\\left (\\theta_{0} \\right )} \\cos{\\left (\\theta_{1} \\right )}\\right) \\cos{\\left (\\theta_{2} \\right )} - \\left(\\sin{\\left (\\theta_{0} \\right )} \\cos{\\left (\\theta_{1} \\right )} + \\sin{\\left (\\theta_{1} \\right )} \\cos{\\left (\\theta_{0} \\right )}\\right) \\sin{\\left (\\theta_{2} \\right )}\\right) \\cos{\\left (\\theta_{3} \\right )} & l_{1} \\sin{\\left (\\theta_{0} \\right )} + l_{2} \\left(\\sin{\\left (\\theta_{0} \\right )} \\cos{\\left (\\theta_{1} \\right )} + \\sin{\\left (\\theta_{1} \\right )} \\cos{\\left (\\theta_{0} \\right )}\\right) + l_{3} \\left(\\left(- \\sin{\\left (\\theta_{0} \\right )} \\sin{\\left (\\theta_{1} \\right )} + \\cos{\\left (\\theta_{0} \\right )} \\cos{\\left (\\theta_{1} \\right )}\\right) \\sin{\\left (\\theta_{2} \\right )} + \\left(\\sin{\\left (\\theta_{0} \\right )} \\cos{\\left (\\theta_{1} \\right )} + \\sin{\\left (\\theta_{1} \\right )} \\cos{\\left (\\theta_{0} \\right )}\\right) \\cos{\\left (\\theta_{2} \\right )}\\right) + l_{4} \\left(\\left(\\left(- \\sin{\\left (\\theta_{0} \\right )} \\sin{\\left (\\theta_{1} \\right )} + \\cos{\\left (\\theta_{0} \\right )} \\cos{\\left (\\theta_{1} \\right )}\\right) \\sin{\\left (\\theta_{2} \\right )} + \\left(\\sin{\\left (\\theta_{0} \\right )} \\cos{\\left (\\theta_{1} \\right )} + \\sin{\\left (\\theta_{1} \\right )} \\cos{\\left (\\theta_{0} \\right )}\\right) \\cos{\\left (\\theta_{2} \\right )}\\right) \\cos{\\left (\\theta_{3} \\right )} + \\left(\\left(- \\sin{\\left (\\theta_{0} \\right )} \\sin{\\left (\\theta_{1} \\right )} + \\cos{\\left (\\theta_{0} \\right )} \\cos{\\left (\\theta_{1} \\right )}\\right) \\cos{\\left (\\theta_{2} \\right )} - \\left(\\sin{\\left (\\theta_{0} \\right )} \\cos{\\left (\\theta_{1} \\right )} + \\sin{\\left (\\theta_{1} \\right )} \\cos{\\left (\\theta_{0} \\right )}\\right) \\sin{\\left (\\theta_{2} \\right )}\\right) \\sin{\\left (\\theta_{3} \\right )}\\right)\\\\0 & 0 & 1\\end{matrix}\\right]$$"
      ],
      "text/plain": [
       "⎡(-(-sin(θ₀)⋅sin(θ₁) + cos(θ₀)⋅cos(θ₁))⋅sin(θ₂) + (-sin(θ₀)⋅cos(θ₁) - sin(θ₁)⋅\n",
       "⎢                                                                             \n",
       "⎢ ((-sin(θ₀)⋅sin(θ₁) + cos(θ₀)⋅cos(θ₁))⋅sin(θ₂) + (sin(θ₀)⋅cos(θ₁) + sin(θ₁)⋅c\n",
       "⎢                                                                             \n",
       "⎣                                                                             \n",
       "\n",
       "cos(θ₀))⋅cos(θ₂))⋅sin(θ₃) + ((-sin(θ₀)⋅sin(θ₁) + cos(θ₀)⋅cos(θ₁))⋅cos(θ₂) + (-\n",
       "                                                                              \n",
       "os(θ₀))⋅cos(θ₂))⋅cos(θ₃) + ((-sin(θ₀)⋅sin(θ₁) + cos(θ₀)⋅cos(θ₁))⋅cos(θ₂) - (si\n",
       "                                                                              \n",
       "                         0                                                    \n",
       "\n",
       "sin(θ₀)⋅cos(θ₁) - sin(θ₁)⋅cos(θ₀))⋅sin(θ₂))⋅cos(θ₃)  (-(-sin(θ₀)⋅sin(θ₁) + cos\n",
       "                                                                              \n",
       "n(θ₀)⋅cos(θ₁) + sin(θ₁)⋅cos(θ₀))⋅sin(θ₂))⋅sin(θ₃)     -((-sin(θ₀)⋅sin(θ₁) + co\n",
       "                                                                              \n",
       "                                                                              \n",
       "\n",
       "(θ₀)⋅cos(θ₁))⋅sin(θ₂) + (-sin(θ₀)⋅cos(θ₁) - sin(θ₁)⋅cos(θ₀))⋅cos(θ₂))⋅cos(θ₃) \n",
       "                                                                              \n",
       "s(θ₀)⋅cos(θ₁))⋅sin(θ₂) + (sin(θ₀)⋅cos(θ₁) + sin(θ₁)⋅cos(θ₀))⋅cos(θ₂))⋅sin(θ₃) \n",
       "                                                                              \n",
       "                                                                             0\n",
       "\n",
       "- ((-sin(θ₀)⋅sin(θ₁) + cos(θ₀)⋅cos(θ₁))⋅cos(θ₂) + (-sin(θ₀)⋅cos(θ₁) - sin(θ₁)⋅\n",
       "                                                                              \n",
       "+ ((-sin(θ₀)⋅sin(θ₁) + cos(θ₀)⋅cos(θ₁))⋅cos(θ₂) - (sin(θ₀)⋅cos(θ₁) + sin(θ₁)⋅c\n",
       "                                                                              \n",
       "                                                                              \n",
       "\n",
       "cos(θ₀))⋅sin(θ₂))⋅sin(θ₃)  l₁⋅cos(θ₀) + l₂⋅(-sin(θ₀)⋅sin(θ₁) + cos(θ₀)⋅cos(θ₁)\n",
       "                                                                              \n",
       "os(θ₀))⋅sin(θ₂))⋅cos(θ₃)     l₁⋅sin(θ₀) + l₂⋅(sin(θ₀)⋅cos(θ₁) + sin(θ₁)⋅cos(θ₀\n",
       "                                                                              \n",
       "                                                                              \n",
       "\n",
       ") + l₃⋅((-sin(θ₀)⋅sin(θ₁) + cos(θ₀)⋅cos(θ₁))⋅cos(θ₂) + (-sin(θ₀)⋅cos(θ₁) - sin\n",
       "                                                                              \n",
       ")) + l₃⋅((-sin(θ₀)⋅sin(θ₁) + cos(θ₀)⋅cos(θ₁))⋅sin(θ₂) + (sin(θ₀)⋅cos(θ₁) + sin\n",
       "                                                                              \n",
       "                                                                              \n",
       "\n",
       "(θ₁)⋅cos(θ₀))⋅sin(θ₂)) + l₄⋅((-(-sin(θ₀)⋅sin(θ₁) + cos(θ₀)⋅cos(θ₁))⋅sin(θ₂) + \n",
       "                                                                              \n",
       "(θ₁)⋅cos(θ₀))⋅cos(θ₂)) + l₄⋅(((-sin(θ₀)⋅sin(θ₁) + cos(θ₀)⋅cos(θ₁))⋅sin(θ₂) + (\n",
       "                                                                              \n",
       "                                                     1                        \n",
       "\n",
       "(-sin(θ₀)⋅cos(θ₁) - sin(θ₁)⋅cos(θ₀))⋅cos(θ₂))⋅sin(θ₃) + ((-sin(θ₀)⋅sin(θ₁) + c\n",
       "                                                                              \n",
       "sin(θ₀)⋅cos(θ₁) + sin(θ₁)⋅cos(θ₀))⋅cos(θ₂))⋅cos(θ₃) + ((-sin(θ₀)⋅sin(θ₁) + cos\n",
       "                                                                              \n",
       "                                                                              \n",
       "\n",
       "os(θ₀)⋅cos(θ₁))⋅cos(θ₂) + (-sin(θ₀)⋅cos(θ₁) - sin(θ₁)⋅cos(θ₀))⋅sin(θ₂))⋅cos(θ₃\n",
       "                                                                              \n",
       "(θ₀)⋅cos(θ₁))⋅cos(θ₂) - (sin(θ₀)⋅cos(θ₁) + sin(θ₁)⋅cos(θ₀))⋅sin(θ₂))⋅sin(θ₃)) \n",
       "                                                                              \n",
       "                                                                              \n",
       "\n",
       "))⎤\n",
       "  ⎥\n",
       "  ⎥\n",
       "  ⎥\n",
       "  ⎦"
      ]
     },
     "execution_count": 17,
     "metadata": {},
     "output_type": "execute_result"
    }
   ],
   "source": [
    "T = forward_kinematics(T0, l, a)\n",
    "Te = T[-1]\n",
    "Te"
   ]
  },
  {
   "cell_type": "code",
   "execution_count": 18,
   "metadata": {},
   "outputs": [
    {
     "data": {
      "text/latex": [
       "$$\\left[\\begin{matrix}\\cos{\\left (\\theta_{0} + \\theta_{1} + \\theta_{2} + \\theta_{3} \\right )} & - \\sin{\\left (\\theta_{0} + \\theta_{1} + \\theta_{2} + \\theta_{3} \\right )} & l_{1} \\cos{\\left (\\theta_{0} \\right )} + l_{2} \\cos{\\left (\\theta_{0} + \\theta_{1} \\right )} + l_{3} \\cos{\\left (\\theta_{0} + \\theta_{1} + \\theta_{2} \\right )} + l_{4} \\cos{\\left (\\theta_{0} + \\theta_{1} + \\theta_{2} + \\theta_{3} \\right )}\\\\\\sin{\\left (\\theta_{0} + \\theta_{1} + \\theta_{2} + \\theta_{3} \\right )} & \\cos{\\left (\\theta_{0} + \\theta_{1} + \\theta_{2} + \\theta_{3} \\right )} & l_{1} \\sin{\\left (\\theta_{0} \\right )} + l_{2} \\sin{\\left (\\theta_{0} + \\theta_{1} \\right )} + l_{3} \\sin{\\left (\\theta_{0} + \\theta_{1} + \\theta_{2} \\right )} + l_{4} \\sin{\\left (\\theta_{0} + \\theta_{1} + \\theta_{2} + \\theta_{3} \\right )}\\\\0 & 0 & 1\\end{matrix}\\right]$$"
      ],
      "text/plain": [
       "⎡cos(θ₀ + θ₁ + θ₂ + θ₃)  -sin(θ₀ + θ₁ + θ₂ + θ₃)  l₁⋅cos(θ₀) + l₂⋅cos(θ₀ + θ₁)\n",
       "⎢                                                                             \n",
       "⎢sin(θ₀ + θ₁ + θ₂ + θ₃)  cos(θ₀ + θ₁ + θ₂ + θ₃)   l₁⋅sin(θ₀) + l₂⋅sin(θ₀ + θ₁)\n",
       "⎢                                                                             \n",
       "⎣          0                        0                                         \n",
       "\n",
       " + l₃⋅cos(θ₀ + θ₁ + θ₂) + l₄⋅cos(θ₀ + θ₁ + θ₂ + θ₃)⎤\n",
       "                                                   ⎥\n",
       " + l₃⋅sin(θ₀ + θ₁ + θ₂) + l₄⋅sin(θ₀ + θ₁ + θ₂ + θ₃)⎥\n",
       "                                                   ⎥\n",
       "           1                                       ⎦"
      ]
     },
     "execution_count": 18,
     "metadata": {},
     "output_type": "execute_result"
    }
   ],
   "source": [
    "Te = simplify(Te)\n",
    "Te"
   ]
  },
  {
   "cell_type": "code",
   "execution_count": 19,
   "metadata": {},
   "outputs": [
    {
     "data": {
      "text/latex": [
       "$$\\left[\\begin{matrix}\\left(- \\frac{\\sin^{2}{\\left (\\theta \\right )}}{\\cos{\\left (\\theta \\right )}} + \\frac{1}{\\cos{\\left (\\theta \\right )}}\\right) \\cos{\\left (\\theta_{0} + \\theta_{1} + \\theta_{2} + \\theta_{3} \\right )} + \\sin{\\left (\\theta \\right )} \\sin{\\left (\\theta_{0} + \\theta_{1} + \\theta_{2} + \\theta_{3} \\right )} - 1 & \\sin{\\left (\\theta \\right )} \\cos{\\left (\\theta_{0} + \\theta_{1} + \\theta_{2} + \\theta_{3} \\right )} - \\sin{\\left (\\theta_{0} + \\theta_{1} + \\theta_{2} + \\theta_{3} \\right )} \\cos{\\left (\\theta \\right )} & l_{1} \\cos{\\left (\\theta_{0} \\right )} + l_{2} \\cos{\\left (\\theta_{0} + \\theta_{1} \\right )} + l_{3} \\cos{\\left (\\theta_{0} + \\theta_{1} + \\theta_{2} \\right )} + l_{4} \\cos{\\left (\\theta_{0} + \\theta_{1} + \\theta_{2} + \\theta_{3} \\right )} + \\left(- \\frac{x}{\\cos{\\left (\\theta \\right )}} - \\left(- \\frac{x \\sin{\\left (\\theta \\right )}}{\\cos{\\left (\\theta \\right )}} + y\\right) \\sin{\\left (\\theta \\right )}\\right) \\cos{\\left (\\theta_{0} + \\theta_{1} + \\theta_{2} + \\theta_{3} \\right )} + \\left(- \\frac{x \\sin{\\left (\\theta \\right )}}{\\cos{\\left (\\theta \\right )}} + y\\right) \\sin{\\left (\\theta_{0} + \\theta_{1} + \\theta_{2} + \\theta_{3} \\right )} \\cos{\\left (\\theta \\right )}\\\\\\left(- \\frac{\\sin^{2}{\\left (\\theta \\right )}}{\\cos{\\left (\\theta \\right )}} + \\frac{1}{\\cos{\\left (\\theta \\right )}}\\right) \\sin{\\left (\\theta_{0} + \\theta_{1} + \\theta_{2} + \\theta_{3} \\right )} - \\sin{\\left (\\theta \\right )} \\cos{\\left (\\theta_{0} + \\theta_{1} + \\theta_{2} + \\theta_{3} \\right )} & \\sin{\\left (\\theta \\right )} \\sin{\\left (\\theta_{0} + \\theta_{1} + \\theta_{2} + \\theta_{3} \\right )} + \\cos{\\left (\\theta \\right )} \\cos{\\left (\\theta_{0} + \\theta_{1} + \\theta_{2} + \\theta_{3} \\right )} - 1 & l_{1} \\sin{\\left (\\theta_{0} \\right )} + l_{2} \\sin{\\left (\\theta_{0} + \\theta_{1} \\right )} + l_{3} \\sin{\\left (\\theta_{0} + \\theta_{1} + \\theta_{2} \\right )} + l_{4} \\sin{\\left (\\theta_{0} + \\theta_{1} + \\theta_{2} + \\theta_{3} \\right )} + \\left(- \\frac{x}{\\cos{\\left (\\theta \\right )}} - \\left(- \\frac{x \\sin{\\left (\\theta \\right )}}{\\cos{\\left (\\theta \\right )}} + y\\right) \\sin{\\left (\\theta \\right )}\\right) \\sin{\\left (\\theta_{0} + \\theta_{1} + \\theta_{2} + \\theta_{3} \\right )} - \\left(- \\frac{x \\sin{\\left (\\theta \\right )}}{\\cos{\\left (\\theta \\right )}} + y\\right) \\cos{\\left (\\theta \\right )} \\cos{\\left (\\theta_{0} + \\theta_{1} + \\theta_{2} + \\theta_{3} \\right )}\\\\0 & 0 & 0\\end{matrix}\\right]$$"
      ],
      "text/plain": [
       "⎡⎛     2            ⎞                                                         \n",
       "⎢⎜  sin (θ)     1   ⎟                                                         \n",
       "⎢⎜- ─────── + ──────⎟⋅cos(θ₀ + θ₁ + θ₂ + θ₃) + sin(θ)⋅sin(θ₀ + θ₁ + θ₂ + θ₃) -\n",
       "⎢⎝   cos(θ)   cos(θ)⎠                                                         \n",
       "⎢                                                                             \n",
       "⎢  ⎛     2            ⎞                                                       \n",
       "⎢  ⎜  sin (θ)     1   ⎟                                                       \n",
       "⎢  ⎜- ─────── + ──────⎟⋅sin(θ₀ + θ₁ + θ₂ + θ₃) - sin(θ)⋅cos(θ₀ + θ₁ + θ₂ + θ₃)\n",
       "⎢  ⎝   cos(θ)   cos(θ)⎠                                                       \n",
       "⎢                                                                             \n",
       "⎣                                       0                                     \n",
       "\n",
       "                                                                              \n",
       "                                                                              \n",
       " 1    sin(θ)⋅cos(θ₀ + θ₁ + θ₂ + θ₃) - sin(θ₀ + θ₁ + θ₂ + θ₃)⋅cos(θ)    l₁⋅cos(\n",
       "                                                                              \n",
       "                                                                              \n",
       "                                                                              \n",
       "                                                                              \n",
       "    sin(θ)⋅sin(θ₀ + θ₁ + θ₂ + θ₃) + cos(θ)⋅cos(θ₀ + θ₁ + θ₂ + θ₃) - 1  l₁⋅sin(\n",
       "                                                                              \n",
       "                                                                              \n",
       "                                    0                                         \n",
       "\n",
       "                                                                              \n",
       "                                                                           ⎛  \n",
       "θ₀) + l₂⋅cos(θ₀ + θ₁) + l₃⋅cos(θ₀ + θ₁ + θ₂) + l₄⋅cos(θ₀ + θ₁ + θ₂ + θ₃) + ⎜- \n",
       "                                                                           ⎝  \n",
       "                                                                              \n",
       "                                                                              \n",
       "                                                                           ⎛  \n",
       "θ₀) + l₂⋅sin(θ₀ + θ₁) + l₃⋅sin(θ₀ + θ₁ + θ₂) + l₄⋅sin(θ₀ + θ₁ + θ₂ + θ₃) + ⎜- \n",
       "                                                                           ⎝  \n",
       "                                                                              \n",
       "                                                                              \n",
       "\n",
       "                                                                              \n",
       "  x      ⎛  x⋅sin(θ)    ⎞       ⎞                          ⎛  x⋅sin(θ)    ⎞   \n",
       "────── - ⎜- ──────── + y⎟⋅sin(θ)⎟⋅cos(θ₀ + θ₁ + θ₂ + θ₃) + ⎜- ──────── + y⎟⋅si\n",
       "cos(θ)   ⎝   cos(θ)     ⎠       ⎠                          ⎝   cos(θ)     ⎠   \n",
       "                                                                              \n",
       "                                                                              \n",
       "  x      ⎛  x⋅sin(θ)    ⎞       ⎞                          ⎛  x⋅sin(θ)    ⎞   \n",
       "────── - ⎜- ──────── + y⎟⋅sin(θ)⎟⋅sin(θ₀ + θ₁ + θ₂ + θ₃) - ⎜- ──────── + y⎟⋅co\n",
       "cos(θ)   ⎝   cos(θ)     ⎠       ⎠                          ⎝   cos(θ)     ⎠   \n",
       "                                                                              \n",
       "         0                                                                    \n",
       "\n",
       "                           ⎤\n",
       "                           ⎥\n",
       "n(θ₀ + θ₁ + θ₂ + θ₃)⋅cos(θ)⎥\n",
       "                           ⎥\n",
       "                           ⎥\n",
       "                           ⎥\n",
       "                           ⎥\n",
       "s(θ)⋅cos(θ₀ + θ₁ + θ₂ + θ₃)⎥\n",
       "                           ⎥\n",
       "                           ⎥\n",
       "                           ⎦"
      ]
     },
     "execution_count": 19,
     "metadata": {},
     "output_type": "execute_result"
    }
   ],
   "source": [
    "eq = Te * trans(x, y, theta).inv() - T0\n",
    "eq"
   ]
  },
  {
   "cell_type": "code",
   "execution_count": 20,
   "metadata": {},
   "outputs": [
    {
     "data": {
      "image/png": "[encoded data removed]",
      "text/latex": [
       "$$\\left [ - \\theta + \\theta_{0} + \\theta_{1} + \\theta_{2}, \\quad l_{1} \\cos{\\left (\\theta_{0} \\right )} + l_{2} \\cos{\\left (\\theta_{0} + \\theta_{1} \\right )} + l_{3} \\cos{\\left (\\theta_{0} + \\theta_{1} + \\theta_{2} \\right )} + l_{4} \\cos{\\left (\\theta_{0} + \\theta_{1} + \\theta_{2} + \\theta_{3} \\right )} + \\left(- \\frac{x}{\\cos{\\left (\\theta \\right )}} - \\left(- \\frac{x \\sin{\\left (\\theta \\right )}}{\\cos{\\left (\\theta \\right )}} + y\\right) \\sin{\\left (\\theta \\right )}\\right) \\cos{\\left (\\theta_{0} + \\theta_{1} + \\theta_{2} + \\theta_{3} \\right )} + \\left(- \\frac{x \\sin{\\left (\\theta \\right )}}{\\cos{\\left (\\theta \\right )}} + y\\right) \\sin{\\left (\\theta_{0} + \\theta_{1} + \\theta_{2} + \\theta_{3} \\right )} \\cos{\\left (\\theta \\right )}, \\quad l_{1} \\sin{\\left (\\theta_{0} \\right )} + l_{2} \\sin{\\left (\\theta_{0} + \\theta_{1} \\right )} + l_{3} \\sin{\\left (\\theta_{0} + \\theta_{1} + \\theta_{2} \\right )} + l_{4} \\sin{\\left (\\theta_{0} + \\theta_{1} + \\theta_{2} + \\theta_{3} \\right )} + \\left(- \\frac{x}{\\cos{\\left (\\theta \\right )}} - \\left(- \\frac{x \\sin{\\left (\\theta \\right )}}{\\cos{\\left (\\theta \\right )}} + y\\right) \\sin{\\left (\\theta \\right )}\\right) \\sin{\\left (\\theta_{0} + \\theta_{1} + \\theta_{2} + \\theta_{3} \\right )} - \\left(- \\frac{x \\sin{\\left (\\theta \\right )}}{\\cos{\\left (\\theta \\right )}} + y\\right) \\cos{\\left (\\theta \\right )} \\cos{\\left (\\theta_{0} + \\theta_{1} + \\theta_{2} + \\theta_{3} \\right )}\\right ]$$"
      ],
      "text/plain": [
       "⎡                                                                             \n",
       "⎢-θ + θ₀ + θ₁ + θ₂, l₁⋅cos(θ₀) + l₂⋅cos(θ₀ + θ₁) + l₃⋅cos(θ₀ + θ₁ + θ₂) + l₄⋅c\n",
       "⎣                                                                             \n",
       "\n",
       "                        ⎛    x      ⎛  x⋅sin(θ)    ⎞       ⎞                  \n",
       "os(θ₀ + θ₁ + θ₂ + θ₃) + ⎜- ────── - ⎜- ──────── + y⎟⋅sin(θ)⎟⋅cos(θ₀ + θ₁ + θ₂ \n",
       "                        ⎝  cos(θ)   ⎝   cos(θ)     ⎠       ⎠                  \n",
       "\n",
       "        ⎛  x⋅sin(θ)    ⎞                                                      \n",
       "+ θ₃) + ⎜- ──────── + y⎟⋅sin(θ₀ + θ₁ + θ₂ + θ₃)⋅cos(θ), l₁⋅sin(θ₀) + l₂⋅sin(θ₀\n",
       "        ⎝   cos(θ)     ⎠                                                      \n",
       "\n",
       "                                                            ⎛    x      ⎛  x⋅s\n",
       " + θ₁) + l₃⋅sin(θ₀ + θ₁ + θ₂) + l₄⋅sin(θ₀ + θ₁ + θ₂ + θ₃) + ⎜- ────── - ⎜- ───\n",
       "                                                            ⎝  cos(θ)   ⎝   co\n",
       "\n",
       "in(θ)    ⎞       ⎞                          ⎛  x⋅sin(θ)    ⎞                  \n",
       "───── + y⎟⋅sin(θ)⎟⋅sin(θ₀ + θ₁ + θ₂ + θ₃) - ⎜- ──────── + y⎟⋅cos(θ)⋅cos(θ₀ + θ\n",
       "s(θ)     ⎠       ⎠                          ⎝   cos(θ)     ⎠                  \n",
       "\n",
       "            ⎤\n",
       "₁ + θ₂ + θ₃)⎥\n",
       "            ⎦"
      ]
     },
     "execution_count": 20,
     "metadata": {},
     "output_type": "execute_result"
    }
   ],
   "source": [
    "eq = [a[0] + a[1] + a[2] - theta, eq[0, 2], eq[1, 2]]\n",
    "eq"
   ]
  },
  {
   "cell_type": "code",
   "execution_count": null,
   "metadata": {
    "collapsed": true
   },
   "outputs": [],
   "source": [
    "solve(eq, a)  # sympy is too stupid to solve it"
   ]
  },
  {
   "cell_type": "code",
   "execution_count": null,
   "metadata": {
    "collapsed": true
   },
   "outputs": [],
   "source": [
    "b = [symbols('theta_%d' % i) for i in range(N)]\n",
    "T3 = trans(x, y, theta) * trans(l[3], 0, 0).inv()\n",
    "l_1_2 = T3[0,-1] ** 2 + T3[1,-1] ** 2\n",
    "b_1_2 = acos((l[1] ** 2 + l[2] ** 2 - l_1_2) / (2 * l[1] * l[2]))  # cosine rule\n",
    "b[1] = pi - b_1_2\n",
    "b_1 = acos((l[1] ** 2 - l[2] ** 2 + l_1_2) / (2 * l[1] * sqrt(l_1_2)))  # cosine rule\n",
    "b_0 = atan(T3[1,-1] / T3[0,-1])\n",
    "b[0] = b_0 - b_1\n",
    "b[2] = atan(T3[1,0] / T3[0,0]) - b[0] - b[1]\n",
    "B = matrix([b]).T\n",
    "B = simplify(B)\n",
    "B"
   ]
  },
  {
   "cell_type": "code",
   "execution_count": null,
   "metadata": {
    "collapsed": true
   },
   "outputs": [],
   "source": [
    "print latex(B)"
   ]
  },
  {
   "cell_type": "code",
   "execution_count": null,
   "metadata": {
    "collapsed": true
   },
   "outputs": [],
   "source": [
    "T_new = forward_kinematics(T0, l, b)\n",
    "Te_new = T_new[-1]\n",
    "Te_new"
   ]
  },
  {
   "cell_type": "code",
   "execution_count": null,
   "metadata": {
    "collapsed": true
   },
   "outputs": [],
   "source": [
    "simplify(Te_new[0, 0])"
   ]
  },
  {
   "cell_type": "code",
   "execution_count": null,
   "metadata": {
    "collapsed": true
   },
   "outputs": [],
   "source": [
    "simplify(Te_new[1, 0])"
   ]
  },
  {
   "cell_type": "code",
   "execution_count": null,
   "metadata": {
    "collapsed": true
   },
   "outputs": [],
   "source": [
    "simplify(Te_new[0, -1])"
   ]
  },
  {
   "cell_type": "markdown",
   "metadata": {},
   "source": [
    "### Test the analytical solution"
   ]
  },
  {
   "cell_type": "code",
   "execution_count": null,
   "metadata": {
    "collapsed": true
   },
   "outputs": [],
   "source": [
    "from numpy import sin, cos, pi, matrix\n",
    "from math import atan2, acos\n",
    "\n",
    "T0 = trans(0, 0, 0)\n",
    "lv = [0] + range(N, 0, -1)  # length of link, l[0] is ingored\n",
    "bf = B\n",
    "for i in range(N):\n",
    "    bf = bf.subs(l[i + 1], lv[i + 1])\n",
    "\n",
    "def inverse_kinematics(x_e, y_e, theta_e):\n",
    "    b = bf.subs(x, x_e).subs(y, y_e).subs(theta, theta_e)\n",
    "    b = (b.subs('I', 1).subs('pi', pi).tolist())\n",
    "    b = [float(i[0]) for i in b]\n",
    "    return b\n",
    "    \n",
    "@interact(x_e=(0, max_len, 0.1), y_e=(-max_len, max_len, 0.1), theta_e=(-pi, pi, 0.1))\n",
    "def set_end_effector(x_e=6, y_e=0, theta_e=0):\n",
    "    b = inverse_kinematics(x_e, y_e, theta_e)\n",
    "    T = forward_kinematics(T0, lv, b)\n",
    "    show_robot_arm(T)"
   ]
  },
  {
   "cell_type": "markdown",
   "metadata": {},
   "source": [
    "### Numerical Solution"
   ]
  },
  {
   "cell_type": "code",
   "execution_count": null,
   "metadata": {
    "collapsed": true
   },
   "outputs": [],
   "source": [
    "from numpy import asarray\n",
    "theta = asarray([0.1] * N)\n",
    "def inverse_kinematics(x_e, y_e, theta_e, theta):\n",
    "    target = matrix([[x_e, y_e, theta_e]])\n",
    "    while True:\n",
    "        T = forward_kinematics(T0, lv, theta)\n",
    "        Te = matrix([from_trans(T[-1])])\n",
    "        e = target - Te\n",
    "        T = matrix([from_trans(i) for i in T[1:-1]])\n",
    "        J = Te - T\n",
    "        J = J.T\n",
    "        J[-1, :] = 1\n",
    "        JJT = J * J.T\n",
    "        d_theta = 0.001 * J.T * JJT.I * e.T\n",
    "        #print (d_theta.T * d_theta)[0, 0]\n",
    "        theta += asarray(d_theta.T)[0]\n",
    "        if (d_theta.T * d_theta)[0, 0] < 1e-6:\n",
    "            break\n",
    "    return theta\n",
    "\n",
    "T = forward_kinematics(T0, lv, theta)\n",
    "Te = matrix([from_trans(T[-1])])\n",
    "\n",
    "@interact(x_e=(0, max_len, 0.01), y_e=(-max_len, max_len, 0.01), theta_e=(-pi, pi, 0.01), theta=fixed(theta))\n",
    "def set_end_effector(x_e=Te[0,0], y_e=Te[0,1], theta_e=Te[0,2], theta=theta):\n",
    "    theta = inverse_kinematics(x_e, y_e, theta_e, theta)\n",
    "    T = forward_kinematics(T0, lv, theta)\n",
    "    show_robot_arm(T)"
   ]
  },
  {
   "cell_type": "code",
   "execution_count": null,
   "metadata": {
    "collapsed": true
   },
   "outputs": [],
   "source": []
  },
  {
   "cell_type": "code",
   "execution_count": null,
   "metadata": {
    "collapsed": true
   },
   "outputs": [],
   "source": []
  }
 ],
 "metadata": {
  "kernelspec": {
   "display_name": "Python 2",
   "language": "python",
   "name": "python2"
  },
  "language_info": {
   "codemirror_mode": {
    "name": "ipython",
    "version": 2
   },
   "file_extension": ".py",
   "mimetype": "text/x-python",
   "name": "python",
   "nbconvert_exporter": "python",
   "pygments_lexer": "ipython2",
   "version": "2.7.12"
  }
 },
 "nbformat": 4,
 "nbformat_minor": 1
}

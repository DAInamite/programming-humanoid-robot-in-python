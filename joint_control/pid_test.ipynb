{
 "cells": [
  {
   "cell_type": "markdown",
   "metadata": {},
   "source": [
    "# Testing PID controller\n",
    "\n",
    "This notebook shows how to test and tune PID controller. \n",
    "\n",
    "\n",
    "* The PID controller has to be implemented in [pid.py](./pid.py) first;\n",
    "* Make sure ipywidgets is enabled with command: \n",
    "    ```sh\n",
    "    jupyter nbextension enable --py widgetsnbextension\n",
    "    ```\n",
    "    read more in [ipywidgets wiki](https://github.com/jupyter-widgets/ipywidgets/blob/master/README.md#install)"
   ]
  },
  {
   "cell_type": "code",
   "execution_count": 1,
   "metadata": {},
   "outputs": [],
   "source": [
    "%matplotlib inline\n",
    "from pylab import *\n",
    "from ipywidgets import interact\n",
    "from IPython import display\n",
    "from collections import deque"
   ]
  },
  {
   "cell_type": "markdown",
   "metadata": {},
   "source": [
    "## start simspark\n",
    "Start SimSpark simulator as described in [last lecture](../introduction/README.md)\n",
    "\n",
    "## run PIDAgent\n",
    "Run all code below, there is plot show current joint angle and desired joint angle.\n",
    "\n",
    "You can set target value and tune the PID parameters to get better results. \n"
   ]
  },
  {
   "cell_type": "code",
   "execution_count": 2,
   "metadata": {},
   "outputs": [],
   "source": [
    "from pid import PIDAgent\n",
    "agent = PIDAgent()"
   ]
  },
  {
   "cell_type": "code",
   "execution_count": 3,
   "metadata": {},
   "outputs": [
    {
     "data": {
      "image/png": "[encoded data removed]",
      "text/plain": [
       "<matplotlib.figure.Figure at 0x7f7524a98b90>"
      ]
     },
     "metadata": {},
     "output_type": "display_data"
    }
   ],
   "source": [
    "@interact(kp=(0, 100, 1), ki=(-1, 1, 0.1), kd=(-1, 1, 0.1), delay=(0, 5))\n",
    "def set_pid_parameters(kp, ki, kd, delay=0):\n",
    "    global agent\n",
    "    agent.joint_controller.Kp = kp\n",
    "    agent.joint_controller.Ki = ki\n",
    "    agent.joint_controller.Kd = kd\n",
    "    agent.joint_controller.set_delay(delay)\n",
    "\n",
    "joint_name = 'HeadYaw'\n",
    "sensor = deque(maxlen=100)\n",
    "target = deque(maxlen=100)\n",
    "\n",
    "@interact(name=agent.joint_names)\n",
    "def set_joint_name(name):\n",
    "    global joint_name\n",
    "    if joint_name != name:\n",
    "        joint_name = name\n",
    "        sensor.clear()\n",
    "        target.clear()\n",
    "\n",
    "@interact(value=(-1, 1, 0.1))\n",
    "def set_joint_target(value):\n",
    "    agent.target_joints[joint_name] = value"
   ]
  },
  {
   "cell_type": "code",
   "execution_count": 4,
   "metadata": {},
   "outputs": [
    {
     "data": {
      "image/png": "[encoded data removed]",
      "text/plain": [
       "<matplotlib.figure.Figure at 0x7f75446f6f90>"
      ]
     },
     "metadata": {},
     "output_type": "display_data"
    }
   ],
   "source": [
    "# inject plotting input agent's loop\n",
    "cycle = 0\n",
    "orig_sense_think_act = agent.sense_think_act\n",
    "def sense_think_act():\n",
    "    global cycle\n",
    "    cycle += 1\n",
    "    orig_sense_think_act()\n",
    "    sensor.append(agent.perception.joint[joint_name])\n",
    "    target.append(agent.target_joints[joint_name])\n",
    "    if cycle % 10 == 0:  # plot every 10 cycles\n",
    "        cla()\n",
    "        plot(target, '-r')\n",
    "        plot(sensor, '-b')\n",
    "        display.clear_output(wait=True)\n",
    "        display.display(gcf())\n",
    "agent.sense_think_act = sense_think_act\n",
    "agent.start()"
   ]
  },
  {
   "cell_type": "code",
   "execution_count": null,
   "metadata": {
    "collapsed": true
   },
   "outputs": [],
   "source": [
    "# "
   ]
  },
  {
   "cell_type": "code",
   "execution_count": null,
   "metadata": {
    "collapsed": true
   },
   "outputs": [],
   "source": []
  },
  {
   "cell_type": "code",
   "execution_count": null,
   "metadata": {
    "collapsed": true
   },
   "outputs": [],
   "source": []
  },
  {
   "cell_type": "code",
   "execution_count": null,
   "metadata": {
    "collapsed": true
   },
   "outputs": [],
   "source": []
  }
 ],
 "metadata": {
  "kernelspec": {
   "display_name": "Python 2",
   "language": "python",
   "name": "python2"
  },
  "language_info": {
   "codemirror_mode": {
    "name": "ipython",
    "version": 2
   },
   "file_extension": ".py",
   "mimetype": "text/x-python",
   "name": "python",
   "nbconvert_exporter": "python",
   "pygments_lexer": "ipython2",
   "version": "2.7.12"
  },
  "widgets": {
   "state": {
    "08edb2b3512b45d583ce811e915ab3b8": {
     "views": []
    },
    "1423ba9c066040e59b1a1a4f560bdcb9": {
     "views": []
    },
    "193d2569ea214281938e49477bcdc330": {
     "views": [
      {
       "cell": {
        "cell_type": "code",
        "execution_count": 3,
        "metadata": {
         "collapsed": false,
         "trusted": true
        },
        "outputs": [
         {
          "data": {
           "image/png": "iVBORw0KGgoAAAANSUhEUgAAAasAAAEbCAYAAABk26sYAAAABHNCSVQICAgIfAhkiAAAAAlwSFlz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\nsWEAAAAASUVORK5CYII=\n",
           "text/plain": "<matplotlib.figure.Figure at 0x7f667b77c710>"
          },
          "metadata": {},
          "output_type": "display_data"
         }
        ],
        "source": "@interact(kp=(0, 100, 1), ki=(-1, 1, 0.1), kd=(-1, 1, 0.1), delay=(0, 5))\ndef set_pid_parameters(kp, ki, kd, delay=0):\n    global agent\n    agent.joint_controller.Kp = kp\n    agent.joint_controller.Ki = ki\n    agent.joint_controller.Kd = kd\n    agent.joint_controller.set_delay(delay)\n\njoint_name = 'HeadYaw'\nsensor = deque(maxlen=100)\ntarget = deque(maxlen=100)\n\n@interact(name=agent.joint_names)\ndef set_joint_name(name):\n    global joint_name\n    if joint_name != name:\n        joint_name = name\n        sensor.clear()\n        target.clear()\n\n@interact(value=(-1, 1, 0.1))\ndef set_joint_target(value):\n    agent.target_joints[joint_name] = value"
       },
       "cell_index": 4,
       "root": true
      }
     ]
    },
    "1da78f99ccac4ad0a500e03f0de462f2": {
     "views": []
    },
    "2419d2912e4c4f87afc84190bad98a24": {
     "views": []
    },
    "24d5130a37024116a3f31e1cf4f7ba91": {
     "views": []
    },
    "24e43b30d5e94f9695f5b8068c846249": {
     "views": []
    },
    "2b31137b0dc04503b1292fe7e726c259": {
     "views": [
      {
       "cell": {
        "cell_type": "code",
        "execution_count": 3,
        "metadata": {
         "collapsed": false,
         "trusted": true
        },
        "outputs": [
         {
          "data": {
           "image/png": "iVBORw0KGgoAAAANSUhEUgAAAasAAAEbCAYAAABk26sYAAAABHNCSVQICAgIfAhkiAAAAAlwSFlz\nAAAMTQAADE0B0s6tTgAAEw9JREFUeJzt3X+MXWd95/H3J3En5YdnJFpTB2cmjgmk7g/UJDTtNtAf\nqKspuxFqibU0WoWmSkuSVlqkLrKWoW0KLS2NKrFopdRelwqXZpfsYkFY1PS2gqiwjpo22IFQihM1\ncWzAot5C5rpKYRry3T/uMboZZuw7nmHuE8/7JV3NOc95zrnPeXTu/fh57rnXqSokSWrZBeNugCRJ\nZ2NYSZKaZ1hJkppnWEmSmmdYSZKaZ1hJkppnWEmSmjdyWCW5PMnBJEeSPJBk5xJ1fjTJ4SSHkjyc\n5A+TfMfQ9puTPJLk0SR7k1y4ViciSTp/rWRktRfYU1VXAHcA+5eo8xDwyqq6qqp+EPge4FcAklwG\nvAO4tqpeBmwF3rSaxkuSNoaRwirJFuBq4C6AqjoATCfZMVyvqr5WVd/o9vlO4HnA6Z/IuB64p6pO\ndut7gBtWfQaSpPPeqCOraeBEVT0zVHYMmFlcMcmlSR4C/hF4Eriz2zQDPDFU9ehS+0uStNimtT5g\nVT0B/FCS5wN/Crwe+F+j7p8kwEuAU2vdNknSutsMfKlW+UO0o4bVceDiJBcMja5mGIyullRVTyW5\nG/iPDMLqGDA8bbh9mf1fAnxhxHZJktp3CfDF1RxgpLCqqpNJDgE3AvuT7AKOV9Vjw/WSvBR4oqqe\nTjIB/BzwmW7zAeCTSX4LOAncCnxgiac7BXD8c59jcvPmcziljWXu7W/nd2+/fdzNaJ79NBr7aXT2\n1Rls3gwJ/X6f6elpWIOZspVMA94KvC/JHDAP3ASQZB+DGyc+CrwG+E9Jnu6O/THgtwGq6vEktwP3\nM7jp4j4GdxguaXLbNiYnJ1d8QhvNxObNTF5yybib0Tz7aTT20+jsq/U1clhV1SPAjy1R/stDy/uA\nfWc4xnuB966wjZKkDc5fsHiOm52dHXcTnhPsp9HYT6Ozr9ZXWvufgpNMAvPz8/NOA0rSc1i/32dq\nagpgqqr6qzmWIytJUvMMK0lS8wwrSVLzDCtJUvMMK0lS8wwrSVLzDCtJUvMMK0lS8wwrSVLzDCtJ\nUvMMK0lS8wwrSVLzDCtJUvMMK0lS8wwrSVLzDCtJUvMMK0lS8wwrSVLzDCtJUvMMK0lS8wwrSVLz\nDCtJUvMMK0lS8wwrSVLzDCtJUvMMK0lS8wwrSVLzDCtJUvMMK0lS8wwrSVLzRg6rJJcnOZjkSJIH\nkuxcos5Pdds+m+ThJL8/tO3SJE8nOZTkcPf3srU6EUnS+WvTCuruBfZU1fuTXA/sB65ZVOcrwBuq\n6miSCeBjSd5YVX/Sbe9X1VWrb7YkaSMZaWSVZAtwNXAXQFUdAKaT7BiuV1Wfrqqj3fIC8BCwffhQ\nq2+yJGmjGXUacBo4UVXPDJUdA2aW2yHJVmAX8NGh4ud304QPJvmNJIaXJOmsvi03WCSZBD4CvKuq\nDnXFXwK2VdWPAD8NvBr4z9+O55cknV9G/czqOHBxkguGRlczDEZXz5LkhcC9wIeq6j2ny6vqX4H/\n1y0/meSPgRuAP1jqCefm5piYmABgdnaW2dnZEZsqSRqXXq9Hr9cDYGFhYc2Om6oarWLycWB/Ve1P\nsgvYXVXXLKrzAuAvgHur6ncWbdsCfLWqnk5yEfB+4HNV9VuL6k0C8/Pz80xOTp7reUmSxqzf7zM1\nNQUwVVX91RxrJdOAtwK3JDkC7AZuAkiyL8l1XZ03A68EXj90e/pbu22vAg4nOQw8CJwA3rmaxkuS\nNoaRR1brxZGVJJ0fxjWykiRpLAwrSVLzDCtJUvMMK0lS8wwrSVLzDCtJUvMMK0lS8wwrSVLzDCtJ\nUvMMK0lS8wwrSVLzDCtJUvMMK0lS8wwrSVLzDCtJUvMMK0lS8wwrSVLzDCtJUvMMK0lS8wwrSVLz\nDCtJUvMMK0lS8wwrSVLzDCtJUvMMK0lS8wwrSVLzDCtJUvMMK0lS8wwrSVLzDCtJUvMMK0lS8wwr\nSVLzDCtJUvNGDqsklyc5mORIkgeS7Fyizk912z6b5OEk71q0/bokf98d44NJXrgWJyFJOr+tZGS1\nF9hTVVcAdwD7l6jzFeANVfUDwNXAtUneCJDkBcAfAa/rjnEC+M3VNF6StDGMFFZJtjAIn7sAquoA\nMJ1kx3C9qvp0VR3tlheAh4Dt3ebXAoeq6tFu/U7ghlW2X5K0AYw6spoGTlTVM0Nlx4CZ5XZIshXY\nBfyfrmgGeGKoylFgaxI/N5MkndGmb8dBk0wCHwHeVVWHz+UYc3NzTExMADA7O8vs7OwatlCS9O3Q\n6/Xo9XoALCwsrNlxU1VnrzSYBnwUeNHp0VWSE8C1VfXYorovBHrAR6vq94bKdwE3V9Vru/XvA/68\nqmYW7T8JzM/PzzM5Obmqk5MkjU+/32dqagpgqqr6qznWSFNwVXUSOATcCN8MnuNLBNULGATVvcNB\n1flz4MokL+/WbwM+sIq2S5I2iJV8XnQrcEuSI8Bu4CaAJPuSXNfVeTPwSuD1SQ4nOZTkrQBV9c/A\nLwH3JHkE2Ab89tqchiTpfDbSNOB6chpQks4P6z4NKEnSOBlWkqTmGVaSpOYZVpKk5hlWkqTmGVaS\npOYZVpKk5hlWkqTmGVaSpOYZVpKk5hlWkqTmGVaSpOYZVpKk5hlWkqTmGVaSpOYZVpKk5hlWkqTm\nGVaSpOYZVpKk5hlWkqTmGVaSpOYZVpKk5hlWkqTmGVaSpOYZVpKk5hlWkqTmGVaSpOYZVpKk5hlW\nkqTmGVaSpOYZVpKk5hlWkqTmjRxWSS5PcjDJkSQPJNm5RJ1Lk9yX5MkkhxZt+4kkTyU5lORw9/ei\ntTgJSdL5bSUjq73Anqq6ArgD2L9EnT7wNuCGZY7x+aq6qqqu7P5+fWXNlSRtRCOFVZItwNXAXQBV\ndQCYTrJjuF5VfbWq7geeWu5Qq2irJGmDGnVkNQ2cqKpnhsqOATMrfL4dSR7sphFvW+G+kqQNatM6\nPtengEuq6lSSbcCfJTlZVR9cxzZIkp6DRg2r48DFSS4YGl3NMBhdjaSq/nlo+YtJ/ifwamDJsJqb\nm2NiYgKA2dlZZmdnR30qSdKY9Ho9er0eAAsLC2t23FTVaBWTjwP7q2p/kl3A7qq6Zpm6Pwm8u6qu\nHCrbCny5qirJZuBe4I+q6n2L9p0E5ufn55mcnDyXc5IkNaDf7zM1NQUwVVX91RxrJXcD3grckuQI\nsBu4CSDJviTXdcvPS3IcuBvYmeRYknd2+18PPJzkMHA/0FscVJIkLWXkkdV6cWQlSeeHcY2sJEka\nC8NKktQ8w0qS1DzDSpLUPMNKktQ8w0qS1DzDSpLUPMNKktQ8w0qS1DzDSpLUPMNKktQ8w0qS1DzD\nSpLUPMNKktQ8w0qS1DzDSpLUPMNKktQ8w0qS1DzDSpLUPMNKktQ8w0qS1DzDSpLUPMNKktQ8w0qS\n1DzDSpLUPMNKktQ8w0qS1DzDSpLUPMNKktQ8w0qS1DzDSpLUPMNKktS8kcMqyeVJDiY5kuSBJDuX\nqHNpkvuSPJnk0BLbb07ySJJHk+xNcuFqT0CSdP5bychqL7Cnqq4A7gD2L1GnD7wNuGHxhiTbgXcA\n11bVy4CtwJtW2F5J0gY0Ulgl2QJcDdwFUFUHgOkkO4brVdVXq+p+4KklDrMLuKeqTnbre1gi1CRJ\nWmzUkdU0cKKqnhkqOwbMrOC5ZoAnhtaPrnB/SdIG5Q0WkqTmbRqx3nHg4iQXDI2uZhiMrkZ1DBie\nNtx+pv3n5uaYmJgAYHZ2ltnZ2RU8lSRpHHq9Hr1eD4CFhYU1O26qarSKyceB/VW1P8kuYHdVXbNM\n3Z8E3l1VVw6VXQZ8ErgKOAl8GOhV1Z2L9p0E5ufn55mcnDyHU5IktaDf7zM1NQUwVVX91RxrJdOA\ntwK3JDkC7AZuAkiyL8l13fLzkhwH7gZ2JjmW5J0AVfU4cDtwP/AI8GUGdxhKknRGI4+s1osjK0k6\nP4xrZCVJ0lgYVpKk5hlWkqTmGVaSpOYZVpKk5hlWkqTmGVaSpOYZVpKk5hlWkqTmGVaSpOYZVpKk\n5hlWkqTmGVaSpOYZVpKk5hlWkqTmGVaSpOYZVpKk5hlWkqTmGVaSpOYZVpKk5hlWkqTmGVaSpOYZ\nVpKk5hlWkqTmGVaSpOYZVpKk5hlWkqTmGVaSpOYZVpKk5hlWkqTmGVaSpOYZVpKk5hlWkqTmjRxW\nSS5PcjDJkSQPJNm5TL2bkzyS5NEke5Nc2JX/RJKnkhxKcrj7e9FanYgk6fy1kpHVXmBPVV0B3AHs\nX1whyXbgHcC1VfUyYCvwpqEqn6+qq6rqyu7v18+55ZKkDWOksEqyBbgauAugqg4A00l2LKq6C7in\nqk5263uAG4YPtbrmSpI2olFHVtPAiap6ZqjsGDCzqN4M8MTQ+tFFdXYkebCbRrxtpY2VJG1Mm9bx\nuT4FXFJVp5JsA/4sycmq+uBSlefm5piYmABgdnaW2dnZdWyqJOlc9Ho9er0eAAsLC2t23FTV2SsN\npgEfBV50enSV5ASDz6YeG6r3FmBHVf1Kt/5a4K1V9eNLHPO/ABdX1ZsXlU8C8/Pz80xOTp77mUmS\nxqrf7zM1NQUwVVX91RxrpGnA7jOoQ8CNAEl2AceHg6pzAHhdkhcnCXAr8IFun61dGUk2A9cBh1fT\neEnSxrCSuwFvBW5JcgTYDdwEkGRfkusAqupx4HbgfuAR4MsM7iIEuB54OMnhbnuvqt63BucgSTrP\njTQNuJ6cBpSk88O6TwNKkjROhpUkqXmGlSSpeYaVJKl5hpUkqXmGlSSpeYaVJKl5hpUkqXmGlSSp\neYaVJKl5hpUkqXmGlSSpeYaVJKl5hpUkqXmGlSSpeYaVJKl5hpUkqXmGlSSpeYaVJKl5hpUkqXmG\nlSSpeYaVJKl5hpUkqXmGlSSpeYaVJKl5hpUkqXmGlSSpeYaVJKl5hpUkqXmGlSSpeYaVJKl5hpUk\nqXkjh1WSy5McTHIkyQNJdi5T7+YkjyR5NMneJBeOsk2SpOWsZGS1F9hTVVcAdwD7F1dIsh14B3Bt\nVb0M2Aq8qdt22XLbdO56vd64m/CcYD+Nxn4anX21vkYKqyRbgKuBuwCq6gAwnWTHoqq7gHuq6mS3\nvge4oVu+/gzbdI58wYzGfhqN/TQ6+2p9jTqymgZOVNUzQ2XHgJlF9WaAJ4bWjw7VOdM2SZKWtWnc\nDVjOF7/Yp98fdyvad+rUAl/4gh11NvbTaOyn0dlXy9u8GRLor+WbeFWd9QFsAZ4ELhgqOwHsWFTv\nLcCdQ+uvBT5xtm2LjrENKB8+fPjwcd48to2SNWd6pAuIs0rycWB/Ve1PsgvYXVXXLKpzGfBJ4Crg\nJPBhoFdVd55p26JjBHgJcGqkhkmSWrYZ+FKNGjbLWElYvRx4H/BdwDxwU1V9Lsk+BjdOfLSrdzPw\nVgZpeh9wW1V942zbJElazshhJUnSuDT1CxajfvF4o0lyUZIPJfl8ksNJekle2m3bkuTe7svWn0ny\n6nG3twVJfjHJM0le163bT4skmUjy37o++XSSP+nKfR0OSfLvknyqe+19Jskbu/INf00leU+Sx7vX\n2iuGyhdfQ993hm2jXV+r/dBrLR/Ax4Abu+Xrgb8Zd5taeAAXAT8ztP6rwH3d8h8Dv9ktvxI4Dlw4\n7jaPub8uBQ52j9d1Ze+1n76ln94NvGdo/cXdX1+Hz+6nfwK+v1u+FPgX4AW+9grgVQzuMXgMeMVQ\n+bLX0LleX2M/2aETGOmOQx8Fgy9oP9Ytnzr9JtOt/zXwmnG3cYx9E+AvgSsZfC56Oqzsp2f30/MZ\nfPb8wkXlvg6/ta9OAq/qll/RhdJ3eE09q48ePx1WZ7qGVnN9tTQNOOoXjwVvBj6c5EXApqr6x6Ft\nT7Cx++zXgE9W1eHTBfbTkl4KfAV4W5K/TfJXSV6Dr8Ol/DzwoSRHgU8Av8DgDjevqaWd6Ro65+ur\npbDSCJLMMXijmRt3W1qT5PsZTCu8c9xteQ7YxGBK67NV9cMM/gF0d1eecTasJd2Pbf868LNVtR34\naeBPsZ/WXUthdRy4OMlwm2YYpK6AJG8BfpbB51dfq6qvAE8nefFQte1s3D57NYM34EeTPA78KPDf\ngf+A/bTYMeAbwP8AqKqHGEzlXAps9XX4TT8EXFxVBwGq6kHgCwymA//Va2pJZ3ovP+f3+WbCqgY/\ncHsIuBGg++Lx8ap6bKwNa0SSX2MwHfFvq2r4C9P/G7itq/PDDD7s/Kv1b+H4VdWeqtpWVTuq6jIG\nnyH8clXtwX56lqr6JwYfdP8MfPML/duB/4uvw2Gn31y/FwZ3sjH47OXzeE0t6Uzv5at5n2/qe1ZL\nfPH4F6vq78baqAYk2cbgRfMPDD7UDfC1qvo33b/s3g9cBnwd+NWq+sTYGtuQ7ldX/mtVfcR++lZd\nQL0X+G4Go6y3V9WHfR0+W5I3AG9j0EcXAL9bVXd7TUGSPcC/B76HwV2Tp6rq5We6hs71+moqrCRJ\nWkoz04CSJC3HsJIkNc+wkiQ1z7CSJDXPsJIkNc+wkiQ1z7CSJDXPsJIkNc+wkiQ17/8DcRNWYxt2\nsWEAAAAASUVORK5CYII=\n",
           "text/plain": "<matplotlib.figure.Figure at 0x7f667b77c710>"
          },
          "metadata": {},
          "output_type": "display_data"
         }
        ],
        "source": "@interact(kp=(0, 100, 1), ki=(-1, 1, 0.1), kd=(-1, 1, 0.1), delay=(0, 5))\ndef set_pid_parameters(kp, ki, kd, delay=0):\n    global agent\n    agent.joint_controller.Kp = kp\n    agent.joint_controller.Ki = ki\n    agent.joint_controller.Kd = kd\n    agent.joint_controller.set_delay(delay)\n\njoint_name = 'HeadYaw'\nsensor = deque(maxlen=100)\ntarget = deque(maxlen=100)\n\n@interact(name=agent.joint_names)\ndef set_joint_name(name):\n    global joint_name\n    if joint_name != name:\n        joint_name = name\n        sensor.clear()\n        target.clear()\n\n@interact(value=(-1, 1, 0.1))\ndef set_joint_target(value):\n    agent.target_joints[joint_name] = value"
       },
       "cell_index": 4,
       "root": true
      }
     ]
    },
    "2b9f319933a64388b028f567bee66fc6": {
     "views": []
    },
    "2cccfd3ec27c417993c321c298ea0905": {
     "views": []
    },
    "2d07583f727a48859d31886d5eacebc0": {
     "views": []
    },
    "2f8e933b32d443549b462891f83be936": {
     "views": []
    },
    "30fa11e67a78439eaf21a543314847f4": {
     "views": []
    },
    "3812304eb2ec442f9b09d9b344a23e29": {
     "views": []
    },
    "428a8160af9a4bbf9d5ac34fe17aae56": {
     "views": []
    },
    "46ae9d6c20854a3281bba172e8eaa7df": {
     "views": [
      {
       "cell": {
        "cell_type": "code",
        "execution_count": 3,
        "metadata": {
         "collapsed": false,
         "trusted": true
        },
        "outputs": [
         {
          "data": {
           "image/png": "iVBORw0KGgoAAAANSUhEUgAAAasAAAEbCAYAAABk26sYAAAABHNCSVQICAgIfAhkiAAAAAlwSFlz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\nsWEAAAAASUVORK5CYII=\n",
           "text/plain": "<matplotlib.figure.Figure at 0x7f667b77c710>"
          },
          "metadata": {},
          "output_type": "display_data"
         }
        ],
        "source": "@interact(kp=(0, 100, 1), ki=(-1, 1, 0.1), kd=(-1, 1, 0.1), delay=(0, 5))\ndef set_pid_parameters(kp, ki, kd, delay=0):\n    global agent\n    agent.joint_controller.Kp = kp\n    agent.joint_controller.Ki = ki\n    agent.joint_controller.Kd = kd\n    agent.joint_controller.set_delay(delay)\n\njoint_name = 'HeadYaw'\nsensor = deque(maxlen=100)\ntarget = deque(maxlen=100)\n\n@interact(name=agent.joint_names)\ndef set_joint_name(name):\n    global joint_name\n    if joint_name != name:\n        joint_name = name\n        sensor.clear()\n        target.clear()\n\n@interact(value=(-1, 1, 0.1))\ndef set_joint_target(value):\n    agent.target_joints[joint_name] = value"
       },
       "cell_index": 4,
       "root": true
      }
     ]
    },
    "4777e46e281d4b0db09b2e15b34ccc15": {
     "views": [
      {
       "cell": {
        "cell_type": "code",
        "execution_count": 3,
        "metadata": {
         "collapsed": false,
         "trusted": true
        },
        "outputs": [
         {
          "data": {
           "image/png": "iVBORw0KGgoAAAANSUhEUgAAAasAAAEbCAYAAABk26sYAAAABHNCSVQICAgIfAhkiAAAAAlwSFlz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\nsWEAAAAASUVORK5CYII=\n",
           "text/plain": "<matplotlib.figure.Figure at 0x7f667b77c710>"
          },
          "metadata": {},
          "output_type": "display_data"
         }
        ],
        "source": "@interact(kp=(0, 100, 1), ki=(-1, 1, 0.1), kd=(-1, 1, 0.1), delay=(0, 5))\ndef set_pid_parameters(kp, ki, kd, delay=0):\n    global agent\n    agent.joint_controller.Kp = kp\n    agent.joint_controller.Ki = ki\n    agent.joint_controller.Kd = kd\n    agent.joint_controller.set_delay(delay)\n\njoint_name = 'HeadYaw'\nsensor = deque(maxlen=100)\ntarget = deque(maxlen=100)\n\n@interact(name=agent.joint_names)\ndef set_joint_name(name):\n    global joint_name\n    if joint_name != name:\n        joint_name = name\n        sensor.clear()\n        target.clear()\n\n@interact(value=(-1, 1, 0.1))\ndef set_joint_target(value):\n    agent.target_joints[joint_name] = value"
       },
       "cell_index": 4,
       "root": true
      }
     ]
    },
    "47ab94252027470fa61ae12d09431df2": {
     "views": []
    },
    "4fd54ea1309d4ecd8b0f231791092e46": {
     "views": []
    },
    "55c9242dbf504841b673f230a59a2ec9": {
     "views": []
    },
    "5719eb44be214e80a359f1f75c67efe0": {
     "views": []
    },
    "57e20d438a754a72a5ca97d2d2feeb7a": {
     "views": []
    },
    "5c4fb0db042044689fe399f3d853be5b": {
     "views": []
    },
    "62596b2d46bb4a1981705b74183eae32": {
     "views": []
    },
    "62cb2f5944e445e5a3f41aac9c4640c5": {
     "views": []
    },
    "71c83a2a0a0e46d1815b5e653f92ceaa": {
     "views": []
    },
    "71fecf5e0585424b98e275f316fb0732": {
     "views": []
    },
    "7a09f83c51b54d2b93b988197ffd8d4f": {
     "views": []
    },
    "8199ee2aaaeb4a50ad4bdad56157a7f6": {
     "views": []
    },
    "8e2d0cd4b04b4e37855ebc376eff0b22": {
     "views": []
    },
    "8f2505989b7f4a8880a5a2a06f9697a3": {
     "views": []
    },
    "904bc4f86e1b4aa6b52fd1eacabdb83f": {
     "views": [
      {
       "cell": {
        "cell_type": "code",
        "execution_count": 3,
        "metadata": {
         "collapsed": false,
         "trusted": true
        },
        "outputs": [
         {
          "data": {
           "image/png": "iVBORw0KGgoAAAANSUhEUgAAAasAAAEbCAYAAABk26sYAAAABHNCSVQICAgIfAhkiAAAAAlwSFlz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\nsWEAAAAASUVORK5CYII=\n",
           "text/plain": "<matplotlib.figure.Figure at 0x7f667b77c710>"
          },
          "metadata": {},
          "output_type": "display_data"
         }
        ],
        "source": "@interact(kp=(0, 100, 1), ki=(-1, 1, 0.1), kd=(-1, 1, 0.1), delay=(0, 5))\ndef set_pid_parameters(kp, ki, kd, delay=0):\n    global agent\n    agent.joint_controller.Kp = kp\n    agent.joint_controller.Ki = ki\n    agent.joint_controller.Kd = kd\n    agent.joint_controller.set_delay(delay)\n\njoint_name = 'HeadYaw'\nsensor = deque(maxlen=100)\ntarget = deque(maxlen=100)\n\n@interact(name=agent.joint_names)\ndef set_joint_name(name):\n    global joint_name\n    if joint_name != name:\n        joint_name = name\n        sensor.clear()\n        target.clear()\n\n@interact(value=(-1, 1, 0.1))\ndef set_joint_target(value):\n    agent.target_joints[joint_name] = value"
       },
       "cell_index": 4,
       "root": true
      }
     ]
    },
    "912637cd00ff4bf49635ec0c62cace3a": {
     "views": []
    },
    "96c5273226db49a29fd0462f75c43c12": {
     "views": []
    },
    "99feba4342ce4e18b166c978bbd2330c": {
     "views": []
    },
    "9ba70e0e0fb74f40a5f5bda804b2bf73": {
     "views": []
    },
    "9c112165712f4930bc1e951a82c9206c": {
     "views": []
    },
    "9f104858cbff4023bce9d45e1c3e249e": {
     "views": []
    },
    "ae2bceece37842639f72493295db48b2": {
     "views": []
    },
    "bcacf127bf964216afa80f16560cb548": {
     "views": []
    },
    "bfe5f8fad9f940fd9bfd5cdf7b9ca0ce": {
     "views": []
    },
    "c4208bcc1cf04031b532bf2b3265052c": {
     "views": []
    },
    "c495cd1960a34bcdb1a125fff3034d4e": {
     "views": []
    },
    "c50ece35211c429cb81aeee5b1382d80": {
     "views": []
    },
    "c63bd69c43d740b19066cfbf3622c051": {
     "views": []
    },
    "cad571b3a8024123962680511618281d": {
     "views": []
    },
    "cb1c499d37f946718520bab5c2870817": {
     "views": []
    },
    "cc45c53f8f704e969d58e18b96edc18e": {
     "views": []
    },
    "d43ef0e5c6af4bbf830cad2fbf2e63bb": {
     "views": []
    },
    "d4c06468277846558e1be51c037a8824": {
     "views": []
    },
    "d725d05c54be4244aede3b24690821f3": {
     "views": []
    },
    "d7365cb8348c4cf7942b816da0e29a05": {
     "views": []
    },
    "d797a6a0497344dfaf0ac0ade5076bca": {
     "views": []
    },
    "e1ac37d6faf240439edd61e61b84bfd8": {
     "views": []
    }
   },
   "version": "1.0.0"
  }
 },
 "nbformat": 4,
 "nbformat_minor": 1
}
